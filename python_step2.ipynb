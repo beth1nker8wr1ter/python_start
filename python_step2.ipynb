{
  "nbformat": 4,
  "nbformat_minor": 0,
  "metadata": {
    "colab": {
      "name": "python_step2.ipynb",
      "provenance": [],
      "authorship_tag": "ABX9TyNDvvFYoURYFSbB+lAM629X",
      "include_colab_link": true
    },
    "kernelspec": {
      "name": "python3",
      "display_name": "Python 3"
    }
  },
  "cells": [
    {
      "cell_type": "markdown",
      "metadata": {
        "id": "view-in-github",
        "colab_type": "text"
      },
      "source": [
        "<a href=\"https://colab.research.google.com/github/beth1nker8wr1ter/python_start/blob/main/python_step2.ipynb\" target=\"_parent\"><img src=\"https://colab.research.google.com/assets/colab-badge.svg\" alt=\"Open In Colab\"/></a>"
      ]
    },
    {
      "cell_type": "code",
      "metadata": {
        "id": "WuHppkOYCbT7"
      },
      "source": [
        "# 제어문"
      ],
      "execution_count": null,
      "outputs": []
    },
    {
      "cell_type": "code",
      "metadata": {
        "colab": {
          "base_uri": "https://localhost:8080/"
        },
        "id": "ZO_kXAJfXTdn",
        "outputId": "adddc0bb-8426-4042-d3c9-45f07e0b6a6e"
      },
      "source": [
        "food = input('먹고 싶은 음식을 입력하세요.>>')\r\n",
        "print('당신이 입력한 먹고 싶은 음식은', food)"
      ],
      "execution_count": null,
      "outputs": [
        {
          "output_type": "stream",
          "text": [
            "먹고 싶은 음식을 입력하세요.>>회\n",
            "당신이 입력한 먹고 싶은 음식은 회\n"
          ],
          "name": "stdout"
        }
      ]
    },
    {
      "cell_type": "code",
      "metadata": {
        "colab": {
          "base_uri": "https://localhost:8080/"
        },
        "id": "dAi7ECtScaFT",
        "outputId": "258119a6-ec3b-44fd-e4f0-c08cc965760d"
      },
      "source": [
        "if food == '우동': #if 뒤에는 조건을 쓴다\r\n",
        "  print('우산을 들고간다')\r\n",
        "  print('돈 들고 간다')\r\n",
        "  print('우동집으로 간다')\r\n",
        "elif food == '짜장면':\r\n",
        "  print('중국집으로 간다')\r\n",
        "elif food == '라면':\r\n",
        "  print('분식집으로 간다')\r\n",
        "else: #else 뒤에느는 조건을 쓰지 않는다\r\n",
        "  print('집에서 먹는다')"
      ],
      "execution_count": null,
      "outputs": [
        {
          "output_type": "stream",
          "text": [
            "집에서 먹는다\n"
          ],
          "name": "stdout"
        }
      ]
    },
    {
      "cell_type": "code",
      "metadata": {
        "id": "nosOzTFgdgUf"
      },
      "source": [
        "# 반복문"
      ],
      "execution_count": null,
      "outputs": []
    },
    {
      "cell_type": "code",
      "metadata": {
        "colab": {
          "base_uri": "https://localhost:8080/"
        },
        "id": "ORbz258tjqyy",
        "outputId": "17d53b4f-6357-4152-d550-90a849dbb5ed"
      },
      "source": [
        "i=1\r\n",
        "while i <= 10:\r\n",
        "    print(i,'반복')\r\n",
        "    i += 1"
      ],
      "execution_count": null,
      "outputs": [
        {
          "output_type": "stream",
          "text": [
            "1 반복\n",
            "2 반복\n",
            "3 반복\n",
            "4 반복\n",
            "5 반복\n",
            "6 반복\n",
            "7 반복\n",
            "8 반복\n",
            "9 반복\n",
            "10 반복\n"
          ],
          "name": "stdout"
        }
      ]
    },
    {
      "cell_type": "code",
      "metadata": {
        "colab": {
          "base_uri": "https://localhost:8080/"
        },
        "id": "z4jpy9P7hc0d",
        "outputId": "4bf25f0d-4f17-4a95-9892-ab37c5a2874e"
      },
      "source": [
        "for _ in range(0, 10):\r\n",
        " print('나도 반복')"
      ],
      "execution_count": null,
      "outputs": [
        {
          "output_type": "stream",
          "text": [
            "나도 반복\n",
            "나도 반복\n",
            "나도 반복\n",
            "나도 반복\n",
            "나도 반복\n",
            "나도 반복\n",
            "나도 반복\n",
            "나도 반복\n",
            "나도 반복\n",
            "나도 반복\n"
          ],
          "name": "stdout"
        }
      ]
    },
    {
      "cell_type": "code",
      "metadata": {
        "colab": {
          "base_uri": "https://localhost:8080/"
        },
        "id": "-FXnsZKjj-ag",
        "outputId": "8c2deb86-9678-4d32-b8f1-8c9fd9f6be09"
      },
      "source": [
        "sum = 0\r\n",
        "for i in range(11):\r\n",
        "    sum += i\r\n",
        "print(sum)"
      ],
      "execution_count": null,
      "outputs": [
        {
          "output_type": "stream",
          "text": [
            "55\n"
          ],
          "name": "stdout"
        }
      ]
    },
    {
      "cell_type": "code",
      "metadata": {
        "colab": {
          "base_uri": "https://localhost:8080/"
        },
        "id": "VSZthiBgkZZ9",
        "outputId": "0b6574b6-ec2b-460d-95cd-8d624ffd1b7b"
      },
      "source": [
        "time = int(input('현재시각은>>'))"
      ],
      "execution_count": null,
      "outputs": [
        {
          "output_type": "stream",
          "text": [
            "현재시각은>>23\n"
          ],
          "name": "stdout"
        }
      ]
    },
    {
      "cell_type": "code",
      "metadata": {
        "colab": {
          "base_uri": "https://localhost:8080/"
        },
        "id": "U2bahku0k5m0",
        "outputId": "95f2f8f4-c591-4727-9274-a02e7eba0e2e"
      },
      "source": [
        "if time < 11:\r\n",
        "  print('good morning')\r\n",
        "elif 11 < time < 15:\r\n",
        "  print('good afternoon')\r\n",
        "elif 15 < time < 20:\r\n",
        "  print('good evening')\r\n",
        "else:\r\n",
        "  print('good night')"
      ],
      "execution_count": null,
      "outputs": [
        {
          "output_type": "stream",
          "text": [
            "good night\n"
          ],
          "name": "stdout"
        }
      ]
    },
    {
      "cell_type": "code",
      "metadata": {
        "colab": {
          "base_uri": "https://localhost:8080/"
        },
        "id": "-p6z0papmkVR",
        "outputId": "dafa9cbb-523d-4a38-9ba1-c40968c2b0d7"
      },
      "source": [
        "if time < 11:\r\n",
        "  print('good morning')\r\n",
        "elif time <= 15:\r\n",
        "  print('good afternoon')\r\n",
        "elif time <= 20:\r\n",
        "  print('good evening')\r\n",
        "else:\r\n",
        "  print('good night')"
      ],
      "execution_count": null,
      "outputs": [
        {
          "output_type": "stream",
          "text": [
            "good night\n"
          ],
          "name": "stdout"
        }
      ]
    },
    {
      "cell_type": "code",
      "metadata": {
        "colab": {
          "base_uri": "https://localhost:8080/"
        },
        "id": "TcZJzca4lg99",
        "outputId": "749b11a9-2608-4ecb-fd9c-1a12e1a50273"
      },
      "source": [
        "month = int(input('이번 달은>>'))"
      ],
      "execution_count": null,
      "outputs": [
        {
          "output_type": "stream",
          "text": [
            "이번 달은>>1\n"
          ],
          "name": "stdout"
        }
      ]
    },
    {
      "cell_type": "code",
      "metadata": {
        "colab": {
          "base_uri": "https://localhost:8080/"
        },
        "id": "hq1UlVJhl0jW",
        "outputId": "b5b99eeb-3600-416d-ce60-683447a89358"
      },
      "source": [
        "if 3 <= month < 6: \r\n",
        "  print('봄')\r\n",
        "elif 6 <= month < 9:\r\n",
        "  print('여름')\r\n",
        "elif 9 <= month < 12: \r\n",
        "  print('가을')\r\n",
        "else:\r\n",
        "  print('겨울')"
      ],
      "execution_count": null,
      "outputs": [
        {
          "output_type": "stream",
          "text": [
            "겨울\n"
          ],
          "name": "stdout"
        }
      ]
    }
  ]
}