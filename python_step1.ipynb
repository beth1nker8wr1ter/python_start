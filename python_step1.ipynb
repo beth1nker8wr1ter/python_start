{
  "nbformat": 4,
  "nbformat_minor": 0,
  "metadata": {
    "colab": {
      "name": "python_step1.ipynb",
      "provenance": [],
      "collapsed_sections": [],
      "authorship_tag": "ABX9TyOaD1koISqk36Cjhtq6mWTN",
      "include_colab_link": true
    },
    "kernelspec": {
      "name": "python3",
      "display_name": "Python 3"
    }
  },
  "cells": [
    {
      "cell_type": "markdown",
      "metadata": {
        "id": "view-in-github",
        "colab_type": "text"
      },
      "source": [
        "<a href=\"https://colab.research.google.com/github/beth1nker8wr1ter/python_start/blob/main/python_step1.ipynb\" target=\"_parent\"><img src=\"https://colab.research.google.com/assets/colab-badge.svg\" alt=\"Open In Colab\"/></a>"
      ]
    },
    {
      "cell_type": "code",
      "metadata": {
        "id": "ywkuduzWEm73",
        "colab": {
          "base_uri": "https://localhost:8080/"
        },
        "outputId": "2a4c44f3-7f92-4252-9825-16b68bde9a52"
      },
      "source": [
        "print(\"hello\")"
      ],
      "execution_count": null,
      "outputs": [
        {
          "output_type": "stream",
          "text": [
            "hello\n"
          ],
          "name": "stdout"
        }
      ]
    },
    {
      "cell_type": "code",
      "metadata": {
        "colab": {
          "base_uri": "https://localhost:8080/"
        },
        "id": "67lB30P1HCNm",
        "outputId": "47f49f9d-57a0-4170-c7e6-d5da3cc62ec3"
      },
      "source": [
        " print(\"안녕하세요\", end=' ')\r\n",
        " print(\"저는 홍길동입니다.\")"
      ],
      "execution_count": null,
      "outputs": [
        {
          "output_type": "stream",
          "text": [
            "안녕하세요 저는 홍길동입니다.\n"
          ],
          "name": "stdout"
        }
      ]
    },
    {
      "cell_type": "code",
      "metadata": {
        "id": "mjviCbWqHLAi"
      },
      "source": [
        "# 컨트롤 + / : 설명충이 되겠노라 comment, 주석\r\n",
        "# 입력 : 데이터를 가지고 와야함\r\n",
        "# 처리 : 적절한 처리\r\n",
        "# 출력 : 처리한 결과를 내보내는 일 (monitor, file, DB, network)"
      ],
      "execution_count": null,
      "outputs": []
    },
    {
      "cell_type": "code",
      "metadata": {
        "colab": {
          "base_uri": "https://localhost:8080/"
        },
        "id": "TXcDhOlyJV_r",
        "outputId": "63fffb11-c704-46bc-ddec-91b3b285ca16"
      },
      "source": [
        "name = input('이름을 입력하세요 >> ') #간단한 처리(기호를 씀) 연산 -> 연산자\r\n",
        "# = : 대입연산자"
      ],
      "execution_count": null,
      "outputs": [
        {
          "output_type": "stream",
          "text": [
            "이름을 입력하세요 >> 홍길동\n"
          ],
          "name": "stdout"
        }
      ]
    },
    {
      "cell_type": "code",
      "metadata": {
        "colab": {
          "base_uri": "https://localhost:8080/"
        },
        "id": "zATjniaUJhou",
        "outputId": "a730d7d0-a514-4186-cde2-22507a42b7c4"
      },
      "source": [
        "print(name) "
      ],
      "execution_count": null,
      "outputs": [
        {
          "output_type": "stream",
          "text": [
            "홍길동\n"
          ],
          "name": "stdout"
        }
      ]
    },
    {
      "cell_type": "code",
      "metadata": {
        "colab": {
          "base_uri": "https://localhost:8080/"
        },
        "id": "w1F-__CaK-0b",
        "outputId": "491c5699-7c38-4e51-88cc-54571977fa30"
      },
      "source": [
        "name = input('이름을 입력하세요 >> ')\r\n",
        "age = input('나이를 입력하세요 >> ')\r\n",
        "school = input('학교를 입력하세요 >> ')"
      ],
      "execution_count": null,
      "outputs": [
        {
          "output_type": "stream",
          "text": [
            "이름을 입력하세요 >> 이태준\n",
            "나이를 입력하세요 >> 32\n",
            "학교를 입력하세요 >> 홍익대학교\n"
          ],
          "name": "stdout"
        }
      ]
    },
    {
      "cell_type": "code",
      "metadata": {
        "colab": {
          "base_uri": "https://localhost:8080/"
        },
        "id": "lhPd_aIKL_f9",
        "outputId": "438eb5e3-f827-45ea-e2df-014baab447a5"
      },
      "source": [
        "print(name)\r\n",
        "print(age)\r\n",
        "print(school)"
      ],
      "execution_count": null,
      "outputs": [
        {
          "output_type": "stream",
          "text": [
            "이태준\n",
            "32\n",
            "홍익대학교\n"
          ],
          "name": "stdout"
        }
      ]
    },
    {
      "cell_type": "code",
      "metadata": {
        "id": "6N4IUuVrMoXO"
      },
      "source": [
        "location = '신촌'"
      ],
      "execution_count": null,
      "outputs": []
    },
    {
      "cell_type": "code",
      "metadata": {
        "id": "wHaRjahuSKrt"
      },
      "source": [
        "number = 2"
      ],
      "execution_count": null,
      "outputs": []
    },
    {
      "cell_type": "code",
      "metadata": {
        "id": "gAkjnmtgSP03"
      },
      "source": [
        "height = 181.6"
      ],
      "execution_count": null,
      "outputs": []
    },
    {
      "cell_type": "code",
      "metadata": {
        "id": "uKtEYAUGS6wu"
      },
      "source": [
        "food_lunch = True"
      ],
      "execution_count": null,
      "outputs": []
    },
    {
      "cell_type": "code",
      "metadata": {
        "id": "zNS7cKiiS-JV"
      },
      "source": [
        "# java는 카멜표기법, Python은 스테이크표기법"
      ],
      "execution_count": null,
      "outputs": []
    },
    {
      "cell_type": "code",
      "metadata": {
        "colab": {
          "base_uri": "https://localhost:8080/"
        },
        "id": "l9E8xbp-T_nr",
        "outputId": "9c0a88ba-8bf3-4a2c-d35b-5c8cd99c4fd6"
      },
      "source": [
        "age2 = input('나이 입력 >> ') #100 \r\n",
        "#컴퓨터에서 입력한 데이터는 타입을 무조건 스트링으로 인식!\r\n",
        "# 스트링을 정수로 바꿔쓰는 결정(강제 캐스팅)은 프로그래머가 한다\r\n",
        "\r\n",
        "print(int(age2) + 1)"
      ],
      "execution_count": null,
      "outputs": [
        {
          "output_type": "stream",
          "text": [
            "나이 입력 >> 100\n",
            "101\n"
          ],
          "name": "stdout"
        }
      ]
    },
    {
      "cell_type": "code",
      "metadata": {
        "id": "cTaD3xYcUaTx"
      },
      "source": [
        "# 두 수를 입력 받아서, 사칙연산을 해보세요"
      ],
      "execution_count": null,
      "outputs": []
    },
    {
      "cell_type": "code",
      "metadata": {
        "colab": {
          "base_uri": "https://localhost:8080/"
        },
        "id": "vp_ufs4sUqvt",
        "outputId": "87fd347b-d776-4fb8-a2b9-31dbe1ab85cb"
      },
      "source": [
        "n1 = input('1번 숫자 >> ')\r\n",
        "n2 = input('2번 숫자 >> ')\r\n"
      ],
      "execution_count": null,
      "outputs": [
        {
          "output_type": "stream",
          "text": [
            "1번 숫자 >> 3\n",
            "2번 숫자 >> 7\n"
          ],
          "name": "stdout"
        }
      ]
    },
    {
      "cell_type": "code",
      "metadata": {
        "colab": {
          "base_uri": "https://localhost:8080/"
        },
        "id": "3RGwxizjXvfj",
        "outputId": "04f80913-c366-44ea-f084-b2cd0feaad36"
      },
      "source": [
        "print('두 수의 합은', int(n1) + int(n2) )\r\n",
        "print('두 수의 차는', int(n1) - int(n2) )\r\n",
        "print('두 수의 곱은', int(n1) * int(n2))\r\n",
        "print('두 수의 나눗셈은', int(n1) / int(n2))\r\n",
        "print('두 수의 몫은', int(n1) // int(n2))\r\n",
        "print('두 수의 나머지는', int(n1) % int(n2))"
      ],
      "execution_count": null,
      "outputs": [
        {
          "output_type": "stream",
          "text": [
            "두 수의 합은 10\n",
            "두 수의 차는 -4\n",
            "두 수의 곱은 21\n",
            "두 수의 나눗셈은 0.42857142857142855\n",
            "두 수의 몫은 0\n",
            "두 수의 나머지는 3\n"
          ],
          "name": "stdout"
        }
      ]
    },
    {
      "cell_type": "code",
      "metadata": {
        "colab": {
          "base_uri": "https://localhost:8080/"
        },
        "id": "QaCTUMFJaF00",
        "outputId": "b58fac48-ce7b-468a-fd05-47b7a1302e2e"
      },
      "source": [
        "n3 = int(input('숫자3 >> '))\r\n",
        "n4 = int(input('숫자4 >> '))"
      ],
      "execution_count": null,
      "outputs": [
        {
          "output_type": "stream",
          "text": [
            "숫자3 >> 14\n",
            "숫자4 >> 5\n"
          ],
          "name": "stdout"
        }
      ]
    },
    {
      "cell_type": "code",
      "metadata": {
        "colab": {
          "base_uri": "https://localhost:8080/"
        },
        "id": "eDFZyxIsaxK3",
        "outputId": "fcb9f8db-01db-4482-dc29-2149dc709b94"
      },
      "source": [
        "print('두 수의 합은', n3 + n4 )\r\n",
        "print('두 수의 차는', n3 - n4 )\r\n",
        "print('두 수의 곱은', n3 * n4)\r\n",
        "print('두 수의 나눗셈은', n3 / n4)\r\n",
        "print('두 수의 몫은', n3 // n4)\r\n",
        "print('두 수의 나머지는', n3 % n4)"
      ],
      "execution_count": null,
      "outputs": [
        {
          "output_type": "stream",
          "text": [
            "두 수의 합은 19\n",
            "두 수의 차는 9\n",
            "두 수의 곱은 70\n",
            "두 수의 나눗셈은 2.8\n",
            "두 수의 몫은 2\n",
            "두 수의 나머지는 4\n"
          ],
          "name": "stdout"
        }
      ]
    },
    {
      "cell_type": "code",
      "metadata": {
        "colab": {
          "base_uri": "https://localhost:8080/"
        },
        "id": "mH3n7PDeYeEB",
        "outputId": "d91f34f8-4a63-4bae-9afb-498668c85cb4"
      },
      "source": [
        "me = '초코'\r\n",
        "me2 = '우유'\r\n",
        "print(me + me2) #문자열로 결합시켜라(결합연산자)"
      ],
      "execution_count": null,
      "outputs": [
        {
          "output_type": "stream",
          "text": [
            "초코우유\n"
          ],
          "name": "stdout"
        }
      ]
    },
    {
      "cell_type": "code",
      "metadata": {
        "colab": {
          "base_uri": "https://localhost:8080/"
        },
        "id": "z1VNBSI4Z01B",
        "outputId": "fd71cbab-eb2b-42dc-a40e-9f03b5b46e63"
      },
      "source": [
        "price = 1000\r\n",
        "print(me + '가격은 ' + str(price) + ' 원')"
      ],
      "execution_count": null,
      "outputs": [
        {
          "output_type": "stream",
          "text": [
            "초코가격은 1000 원\n"
          ],
          "name": "stdout"
        }
      ]
    },
    {
      "cell_type": "code",
      "metadata": {
        "id": "YBWkr4cfduiN"
      },
      "source": [
        "#json {이름:홍길동, 나이:100, 소속:메가}"
      ],
      "execution_count": null,
      "outputs": []
    },
    {
      "cell_type": "code",
      "metadata": {
        "colab": {
          "base_uri": "https://localhost:8080/"
        },
        "id": "vW1kx4hJdvnb",
        "outputId": "b92f4b76-c10e-479d-83f6-5c3b0abd09bc"
      },
      "source": [
        "coffee_price = int(input('커피 가격은 >>')) \r\n",
        "coffee_count = int(input('커피 인원수는 >>'))\r\n",
        "sum = coffee_price * coffee_count #변수(저장공간, 저장공간이름 -> 변수명(variable))"
      ],
      "execution_count": null,
      "outputs": [
        {
          "output_type": "stream",
          "text": [
            "커피 가격은 >>5000\n",
            "커피 인원수는 >>5\n"
          ],
          "name": "stdout"
        }
      ]
    },
    {
      "cell_type": "code",
      "metadata": {
        "colab": {
          "base_uri": "https://localhost:8080/"
        },
        "id": "ezzRUTZpdvqt",
        "outputId": "1ea5470f-f37c-4cf6-94a5-4585d409d534"
      },
      "source": [
        "if sum >= 20000:\r\n",
        "  print('20000원 이상입니다')\r\n",
        "  print(sum - 2000, '원 결제하세요')\r\n",
        "else :  \r\n",
        "  print('20000원 미만입니다')\r\n",
        "  print(sum, '원 결제하세요')"
      ],
      "execution_count": null,
      "outputs": [
        {
          "output_type": "stream",
          "text": [
            "20000원 이상입니다\n",
            "23000 원 결제하세요\n"
          ],
          "name": "stdout"
        }
      ]
    },
    {
      "cell_type": "code",
      "metadata": {
        "colab": {
          "base_uri": "https://localhost:8080/"
        },
        "id": "IbvIVhrOh5Ki",
        "outputId": "bea2f4d4-80f3-4c26-a0af-a5c3e1b5cff9"
      },
      "source": [
        "english = int(input('영어 점수입력 : '))\r\n",
        "math = int(input('수학 점수입력 : '))\r\n",
        "korean = int(input('국어 점수는 : '))\r\n"
      ],
      "execution_count": null,
      "outputs": [
        {
          "output_type": "stream",
          "text": [
            "영어 점수입력 : 76\n",
            "수학 점수입력 : 80\n",
            "국어 점수는 : 60\n"
          ],
          "name": "stdout"
        }
      ]
    },
    {
      "cell_type": "code",
      "metadata": {
        "colab": {
          "base_uri": "https://localhost:8080/"
        },
        "id": "Zv__crcLkx7E",
        "outputId": "4bef22c1-e689-4861-81e4-74fe1748380b"
      },
      "source": [
        "sum2 = english + math + korean\r\n",
        "average2 = sum2 / 3\r\n",
        "\r\n",
        "print('세 과목 점수의 합은', sum2 , '입니다')\r\n",
        "print('세 과목의 평균 점수는' , int(average2), '입니다')"
      ],
      "execution_count": null,
      "outputs": [
        {
          "output_type": "stream",
          "text": [
            "세 과목 점수의 합은 216 입니다\n",
            "세 과목의 평균 점수는 72 입니다\n"
          ],
          "name": "stdout"
        }
      ]
    },
    {
      "cell_type": "code",
      "metadata": {
        "colab": {
          "base_uri": "https://localhost:8080/"
        },
        "id": "Z6q7EkuMlSXV",
        "outputId": "b791cdeb-598c-4823-803a-0a05bf746e34"
      },
      "source": [
        "T1 = int(input('지금은 몇 시 입니까? >>'))"
      ],
      "execution_count": null,
      "outputs": [
        {
          "output_type": "stream",
          "text": [
            "지금은 몇 시 입니까? >>12\n"
          ],
          "name": "stdout"
        }
      ]
    },
    {
      "cell_type": "code",
      "metadata": {
        "colab": {
          "base_uri": "https://localhost:8080/"
        },
        "id": "F6vcy8GVlsty",
        "outputId": "ac02f19e-399a-4714-e7ca-e8133173a050"
      },
      "source": [
        "if T1 < 12 :\r\n",
        "  print('점심 전입니다. 맛있게 드세요!')\r\n",
        "else :\r\n",
        "  print('점심후입니다')"
      ],
      "execution_count": null,
      "outputs": [
        {
          "output_type": "stream",
          "text": [
            "점심후입니다\n"
          ],
          "name": "stdout"
        }
      ]
    },
    {
      "cell_type": "code",
      "metadata": {
        "colab": {
          "base_uri": "https://localhost:8080/"
        },
        "id": "ygg85dEVmIej",
        "outputId": "cf317743-b657-486b-e78c-d48924258438"
      },
      "source": [
        "principal = int(input('1년 만기 정기예금을 얼마나 예치하시겠습니까? >> '))\r\n",
        "interest = principal*1/10"
      ],
      "execution_count": null,
      "outputs": [
        {
          "output_type": "stream",
          "text": [
            "1년 만기 정기예금을 얼마나 예치하시겠습니까? >> 20000\n"
          ],
          "name": "stdout"
        }
      ]
    },
    {
      "cell_type": "code",
      "metadata": {
        "colab": {
          "base_uri": "https://localhost:8080/"
        },
        "id": "N7trgA9nn-kb",
        "outputId": "12a4881e-1ecb-42d7-8b6e-2aaf4d6bd064"
      },
      "source": [
        "print('원금이', int(principal) , '원 이시군요')\r\n",
        "print('이자는', int(interest) , '원입니다')\r\n",
        "print('원리합계는', int(principal+interest), '원입니다')"
      ],
      "execution_count": null,
      "outputs": [
        {
          "output_type": "stream",
          "text": [
            "원금이 20000 원 이시군요\n",
            "이자는 2000 원입니다\n",
            "원리합계는 22000 원입니다\n"
          ],
          "name": "stdout"
        }
      ]
    },
    {
      "cell_type": "code",
      "metadata": {
        "colab": {
          "base_uri": "https://localhost:8080/"
        },
        "id": "6aEddzOPtwsx",
        "outputId": "07848e98-038d-4497-efba-a99ed1328b6b"
      },
      "source": [
        "ID = input('원래 입력할 아이디는 >>')"
      ],
      "execution_count": null,
      "outputs": [
        {
          "output_type": "stream",
          "text": [
            "원래 입력할 아이디는 >>root1\n"
          ],
          "name": "stdout"
        }
      ]
    },
    {
      "cell_type": "code",
      "metadata": {
        "colab": {
          "base_uri": "https://localhost:8080/"
        },
        "id": "02m1qHXCs2vP",
        "outputId": "d7e26318-202a-47b9-8b2a-f6a943322248"
      },
      "source": [
        "if ID == 'root':\r\n",
        "  print('로그인 되었습니다!')\r\n",
        "else:\r\n",
        "  print('로그인 되지 않았습니다')"
      ],
      "execution_count": null,
      "outputs": [
        {
          "output_type": "stream",
          "text": [
            "로그인 되지 않았습니다\n"
          ],
          "name": "stdout"
        }
      ]
    },
    {
      "cell_type": "code",
      "metadata": {
        "colab": {
          "base_uri": "https://localhost:8080/"
        },
        "id": "Sk3xfqFXt7AQ",
        "outputId": "0fd86f36-d4f6-4011-84bd-95579314fff8"
      },
      "source": [
        "sticker_price = int(input(\"스티커 가격은 >>\"))\r\n",
        "sticker_count = int(input(\"스티커 개수는 >>\"))\r\n",
        "bookmark_price = int(input(\"책갈피 가격은 >>\"))\r\n",
        "bookmark_count = int(input(\"책갈피 가격은 >>\"))\r\n"
      ],
      "execution_count": null,
      "outputs": [
        {
          "output_type": "stream",
          "text": [
            "스티커 가격은 >>1000\n",
            "스티커 개수는 >>3\n",
            "책갈피 가격은 >>2500\n",
            "책갈피 가격은 >>4\n"
          ],
          "name": "stdout"
        }
      ]
    },
    {
      "cell_type": "code",
      "metadata": {
        "colab": {
          "base_uri": "https://localhost:8080/"
        },
        "id": "MenHa0rUuzh5",
        "outputId": "c23c15c3-c147-4e2f-a74a-3890ade3a2c5"
      },
      "source": [
        "sum = (sticker_price*sticker_count)+(bookmark_price*bookmark_count)\r\n",
        "premium = sum*0.1\r\n",
        "print('내가 낸 금액은', sum-premium, '입니다')"
      ],
      "execution_count": null,
      "outputs": [
        {
          "output_type": "stream",
          "text": [
            "내가 낸 금액은 11700.0 입니다\n"
          ],
          "name": "stdout"
        }
      ]
    },
    {
      "cell_type": "code",
      "metadata": {
        "id": "9LadRPm9v3Sb"
      },
      "source": [
        ""
      ],
      "execution_count": null,
      "outputs": []
    }
  ]
}