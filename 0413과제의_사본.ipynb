{
  "nbformat": 4,
  "nbformat_minor": 0,
  "metadata": {
    "colab": {
      "name": "0413과제의 사본",
      "provenance": [],
      "authorship_tag": "ABX9TyPilsxm7erJicExAoAecM7E",
      "include_colab_link": true
    },
    "kernelspec": {
      "name": "python3",
      "display_name": "Python 3"
    },
    "language_info": {
      "name": "python"
    }
  },
  "cells": [
    {
      "cell_type": "markdown",
      "metadata": {
        "id": "view-in-github",
        "colab_type": "text"
      },
      "source": [
        "<a href=\"https://colab.research.google.com/github/beth1nker8wr1ter/python_start/blob/main/0413%EA%B3%BC%EC%A0%9C%EC%9D%98_%EC%82%AC%EB%B3%B8.ipynb\" target=\"_parent\"><img src=\"https://colab.research.google.com/assets/colab-badge.svg\" alt=\"Open In Colab\"/></a>"
      ]
    },
    {
      "cell_type": "code",
      "metadata": {
        "colab": {
          "base_uri": "https://localhost:8080/"
        },
        "id": "MQT1kM3Bcl_c",
        "outputId": "2aa4a498-aa10-4334-97d2-60bcb9d96495"
      },
      "source": [
        "print('뭐먹지?')"
      ],
      "execution_count": null,
      "outputs": [
        {
          "output_type": "stream",
          "text": [
            "뭐먹지?\n"
          ],
          "name": "stdout"
        }
      ]
    },
    {
      "cell_type": "code",
      "metadata": {
        "colab": {
          "base_uri": "https://localhost:8080/"
        },
        "id": "dKcER7P7dJXv",
        "outputId": "5d94c8fc-7ec9-4b3e-dda6-c53188775828"
      },
      "source": [
        "print('버거킹 맛있다')"
      ],
      "execution_count": null,
      "outputs": [
        {
          "output_type": "stream",
          "text": [
            "버거킹 맛있다\n"
          ],
          "name": "stdout"
        }
      ]
    }
  ]
}